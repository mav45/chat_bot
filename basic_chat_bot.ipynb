{
 "cells": [
  {
   "cell_type": "code",
   "execution_count": 5,
   "metadata": {},
   "outputs": [],
   "source": [
    "import tensorflow as tf\n",
    "import numpy as np\n",
    "import csv"
   ]
  },
  {
   "cell_type": "code",
   "execution_count": null,
   "metadata": {},
   "outputs": [],
   "source": [
    "# Load the data from the CSV file\n",
    "with open('data.csv', newline='') as csvfile:\n",
    "    reader = csv.reader(csvfile, delimiter=',', quotechar='\"')\n",
    "    data = []\n",
    "    for row in reader:\n",
    "        data.append(row)"
   ]
  },
  {
   "cell_type": "code",
   "execution_count": null,
   "metadata": {},
   "outputs": [],
   "source": [
    "print(len(data)) \n",
    "print(len(data[0]))"
   ]
  },
  {
   "cell_type": "code",
   "execution_count": 180,
   "metadata": {},
   "outputs": [],
   "source": [
    "# Extract the questions and answers from the data\n",
    "questions = [row[0] for row in data]\n",
    "answers = [row[1] for row in data]"
   ]
  },
  {
   "cell_type": "code",
   "execution_count": 181,
   "metadata": {},
   "outputs": [],
   "source": [
    "# Build a vocabulary from the questions and answers\n",
    "vocab = set()\n",
    "for q, a in zip(questions, answers):\n",
    "    vocab |= set(q.lower().split())\n",
    "    vocab |= set(a.lower().split())\n",
    "vocab = sorted(list(vocab))"
   ]
  },
  {
   "cell_type": "code",
   "execution_count": 182,
   "metadata": {},
   "outputs": [],
   "source": [
    "\n",
    "vocab_size = len(vocab)\n",
    "seq_len = 15  # set a fixed sequence length\n",
    "question_seqs = np.zeros((len(questions), seq_len), dtype=np.int32)\n",
    "answer_seqs = np.zeros((len(answers), seq_len), dtype=np.int32)\n",
    "for i, (q, a) in enumerate(zip(questions, answers)):\n",
    "    q_seq = [vocab.index(w.lower()) for w in q.split()]\n",
    "    a_seq = [vocab.index(w.lower()) for w in a.split()]\n",
    "    q_seq = q_seq[:seq_len]  # truncate questions longer than seq_len\n",
    "    a_seq = a_seq[:seq_len]  # truncate answers longer than seq_len\n",
    "    question_seqs[i, :len(q_seq)] = q_seq\n",
    "    answer_seqs[i, :len(a_seq)] = a_seq"
   ]
  },
  {
   "cell_type": "code",
   "execution_count": 183,
   "metadata": {},
   "outputs": [],
   "source": [
    "# Build the model\n",
    "embedding_dim = 128\n",
    "rnn_units = 256\n",
    "model = tf.keras.Sequential([\n",
    "    tf.keras.layers.Embedding(vocab_size, embedding_dim),\n",
    "    tf.keras.layers.LSTM(rnn_units, return_sequences=True),\n",
    "    tf.keras.layers.Dense(vocab_size)\n",
    "])"
   ]
  },
  {
   "cell_type": "code",
   "execution_count": 184,
   "metadata": {},
   "outputs": [],
   "source": [
    "# Compile the model\n",
    "model.compile(optimizer='adam', loss=tf.keras.losses.SparseCategoricalCrossentropy(from_logits=True))\n"
   ]
  },
  {
   "cell_type": "code",
   "execution_count": 2,
   "metadata": {},
   "outputs": [],
   "source": [
    "# Train the model\n",
    "model.fit(question_seqs, answer_seqs, epochs=500)"
   ]
  },
  {
   "cell_type": "code",
   "execution_count": 186,
   "metadata": {},
   "outputs": [],
   "source": [
    "# Define a function to generate responses\n",
    "def generate_response(model, question, vocab):\n",
    "    question_seq = np.zeros((1, seq_len), dtype=np.int32)\n",
    "    q_seq = [vocab.index(w.lower()) for w in question.split()]\n",
    "    question_seq[0, :len(q_seq)] = q_seq\n",
    "    logits = model.predict(question_seq)\n",
    "    response_seq = tf.argmax(logits, axis=-1)[0]\n",
    "    response = ' '.join([vocab[i] for i in response_seq if i != 0])\n",
    "    return response"
   ]
  },
  {
   "cell_type": "code",
   "execution_count": 3,
   "metadata": {},
   "outputs": [],
   "source": [
    "# Test the model\n",
    "while True:\n",
    "    question = input('You: ')\n",
    "    if question == 'exit':\n",
    "        break\n",
    "        \n",
    "    response = generate_response(model, question, vocab)\n",
    "    print('Bot:', response)\n",
    "    "
   ]
  }
 ],
 "metadata": {
  "kernelspec": {
   "display_name": "Python 3",
   "language": "python",
   "name": "python3"
  },
  "language_info": {
   "codemirror_mode": {
    "name": "ipython",
    "version": 3
   },
   "file_extension": ".py",
   "mimetype": "text/x-python",
   "name": "python",
   "nbconvert_exporter": "python",
   "pygments_lexer": "ipython3",
   "version": "3.8.13"
  }
 },
 "nbformat": 4,
 "nbformat_minor": 4
}
